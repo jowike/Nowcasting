{
 "cells": [
  {
   "cell_type": "code",
   "execution_count": 1,
   "metadata": {},
   "outputs": [],
   "source": [
    "from datetime import datetime\n",
    "import os\n",
    "import numpy as np\n",
    "import pandas as pd\n",
    "\n",
    "# import functions\n",
    "from pysrc.load_data import read_data, sort_data, transform_data, drop_data\n",
    "from pysrc.load_spec import load_spec\n",
    "from pysrc.summarize import summarize\n",
    "from pysrc.remNaNs_spline import remNaNs_spline"
   ]
  },
  {
   "cell_type": "code",
   "execution_count": 2,
   "metadata": {},
   "outputs": [],
   "source": [
    "import plotly.graph_objs as go\n",
    "import plotly.offline as pyo\n",
    "import plotly.subplots as psub"
   ]
  },
  {
   "cell_type": "code",
   "execution_count": 3,
   "metadata": {},
   "outputs": [],
   "source": [
    "# # Config\n",
    "# config = []\n",
    "# for v in [\n",
    "#     \"PAYEMS\", \"JTSJOL\", \"CPIAUCSL\", \"DGORDER\", \"HSN1F\", \"RSAFS\", \"UNRATE\", \"HOUST\", \"INDPRO\", \"PPIFIS\", \"DSPIC96\", \"BOPTEXP\", 'BOPTIMP', \"WHLSLRIMSA\", \"TTLCONS\", \"IR\", \"CPILFESL\", \"PCEPILFE\", \"PCEPI\", \"PERMIT\", \"TCU\", \"BUSINV\", \"IQ\", \"GACDISA066MSFRBNY\", \"PCEC96\", \"GACDFSA066MSFRBPHI\", \"GDPC1\", \"ULCNFB\", \"A261RX1Q020SBEA\"\n",
    "# ]:\n",
    "#     config.append({\n",
    "#         \"source_dataset_code\": v,\n",
    "#         \"skip_country_codes\": [],\n",
    "#         \"include_country_codes\": []\n",
    "#     })\n",
    "\n",
    "# SQL\n",
    "# select VariableCode, ReferenceDate, VariableValue \n",
    "#     from NewestData nd\n",
    "#     left join Variable v on v.VariableId=nd.VariableId\n",
    "#     where VariableCode in (\n",
    "#         'PAYEMS', 'JTSJOL', 'CPIAUCSL', 'DGORDER', 'HSN1F', 'RSAFS', 'UNRATE', 'HOUST', 'INDPRO', 'PPIFIS', 'DSPIC96', 'BOPTEXP', 'BOPTIMP', 'WHLSLRIMSA', 'TTLCONS', 'IR', 'CPILFESL', 'PCEPILFE', 'PCEPI', 'PERMIT', 'TCU', 'BUSINV', 'IQ', 'GACDISA066MSFRBNY', 'PCEC96', 'GACDFSA066MSFRBPHI', 'GDPC1', 'ULCNFB', 'A261RX1Q020SBEA'\n",
    "#     )"
   ]
  },
  {
   "cell_type": "code",
   "execution_count": 4,
   "metadata": {},
   "outputs": [],
   "source": [
    "def source_data_prep(src_fpath, country=\"US\"):\n",
    "    df_long = pd.read_csv(src_fpath, decimal=\",\")\n",
    "    df_long[\"ReferenceDate\"] = pd.to_datetime(df_long[\"ReferenceDate\"])\n",
    "    df_pivot = df_long.pivot(index=\"ReferenceDate\", columns=\"VariableCode\", values=\"VariableValue\")\n",
    "    vintage = os.path.basename(src_fpath).split(\".\")[0]\n",
    "    df_pivot.to_excel(os.path.join('data', country, f'{vintage}.xlsx'), sheet_name=\"data\")\n",
    "    return vintage"
   ]
  },
  {
   "cell_type": "code",
   "execution_count": 5,
   "metadata": {},
   "outputs": [],
   "source": [
    "def conv_matrix_to_df(matrix, date_col):\n",
    "    df = pd.DataFrame(matrix)\n",
    "\n",
    "    headers = df.iloc[0].values\n",
    "    df.columns = headers\n",
    "    df = df.drop(index=0, axis=0)\n",
    "    df[\"ReferenceDate\"] = date_col\n",
    "    return df.set_index(\"ReferenceDate\").sort_index()"
   ]
  },
  {
   "cell_type": "code",
   "execution_count": 6,
   "metadata": {},
   "outputs": [],
   "source": [
    "def load_data(datafile, Spec, sample=None, load_excel=False):\n",
    "    \"\"\"\n",
    "    Load vintage of data from file and format as structure\n",
    "\n",
    "    Parameters:\n",
    "        datafile (str): Filename of Microsoft Excel workbook file\n",
    "        Spec (dict): Model specification containing SeriesID and other info\n",
    "        sample (float, optional): Sample period start date in numeric form\n",
    "        load_excel (bool, optional): Flag to force loading from Excel\n",
    "\n",
    "    Returns:\n",
    "        X (np.ndarray): T x N numeric array, transformed dataset\n",
    "        Time (np.ndarray): T x 1 numeric array, date number with observation dates\n",
    "        Z (np.ndarray): T x N numeric array, raw (untransformed) dataset\n",
    "    \"\"\"\n",
    "    print('Loading data...')\n",
    "\n",
    "    ext = os.path.splitext(datafile)[1]  # file extension\n",
    "    idx = datafile.rfind(os.path.sep)\n",
    "    datafile_mat = os.path.join(datafile[:idx], 'mat', os.path.splitext(datafile[idx + 1:])[0] + '.npz')\n",
    "\n",
    "    if os.path.exists(datafile_mat) and not load_excel:\n",
    "        # Load raw data from a NumPy formatted binary (.npz) file\n",
    "        with np.load(datafile_mat, allow_pickle=True) as data:\n",
    "            Z = data['Z']\n",
    "            Time = data['Time']\n",
    "            Mnem = data['Mnem']\n",
    "    elif ext in ['.xlsx', '.xls']:\n",
    "        # Read raw data from Excel file\n",
    "        Z, Time, Mnem = read_data(datafile)\n",
    "        # np.savez(datafile_mat, Z=Z, Time=Time, Mnem=Mnem)\n",
    "    else:\n",
    "        raise ValueError('Only Microsoft Excel workbook files supported.')\n",
    "\n",
    "    # Sort data based on model specification\n",
    "    Z = sort_data(Z, Mnem, Spec)\n",
    "    \n",
    "    # Transform data based on model specification\n",
    "    X, Time, Z, header = transform_data(Z, Time, Spec)\n",
    "\n",
    "    # Drop data not in estimation sample\n",
    "    if sample is not None:\n",
    "        X, Time, Z = drop_data(X, Time, Z, sample)\n",
    "\n",
    "    # Z = np.vstack([header, Z])\n",
    "    # X = np.vstack([header, X])\n",
    "\n",
    "    return X, Time, Z, header"
   ]
  },
  {
   "cell_type": "code",
   "execution_count": 7,
   "metadata": {},
   "outputs": [],
   "source": [
    "from scipy.signal import lfilter\n",
    "from scipy.interpolate import splrep, splev\n",
    "import numpy as np\n",
    "\n",
    "def filter(x, k):\n",
    "    \"\"\"Apply a moving average filter with a window size of 2*k+1.\"\"\"\n",
    "    numerator = np.ones(2*k+1) / (2*k+1)\n",
    "    return lfilter(numerator, [1], x)\n",
    "\n",
    "def remNaNs_spline(X,options):\n",
    "    \"\"\"\n",
    "    Treats NaNs in the dataset for use in Dynamic Factor Models (DFM).\n",
    "\n",
    "    This function processes NaNs in a data matrix `X` according to five cases, \n",
    "    which are useful for running functions in the `DFM.m` file that do not \n",
    "    accept missing value inputs.\n",
    "\n",
    "    Replication files for: \n",
    "    \"Nowcasting\", 2010, by Marta Banbura, Domenico Giannone, and Lucrezia Reichlin, \n",
    "    in Michael P. Clements and David F. Hendry, editors, Oxford Handbook on Economic Forecasting.\n",
    "\n",
    "    The software can be freely used in applications. Users are kindly requested to \n",
    "    add acknowledgments to published work and cite the above reference in any resulting publications.\n",
    "\n",
    "    Args:\n",
    "        X (ndarray): Input data matrix of shape (T, n) where `T` is time and `n` is the number of series.\n",
    "        options (dict): A dictionary with the following keys:\n",
    "            - method (int): Determines the method for handling NaNs.\n",
    "                - 1: Replaces all missing values using a filter.\n",
    "                - 2: Replaces missing values after removing trailing and leading zeros \n",
    "                     (a row is 'missing' if more than 80% is NaN).\n",
    "                - 3: Only removes rows with leading and closing zeros.\n",
    "                - 4: Replaces missing values after removing trailing and leading zeros \n",
    "                     (a row is 'missing' if all are NaN).\n",
    "                - 5: Replaces missing values using a spline and then applies a filter.\n",
    "            - k (int): Used in MATLAB's filter function for the 1-D filter. \n",
    "              Controls the rational transfer function's numerator, where the \n",
    "              denominator is set to 1. The numerator takes the form \n",
    "              `ones(2*k+1, 1) / (2*k+1)`. See MATLAB's documentation for `filter()` for details.\n",
    "\n",
    "    Returns:\n",
    "        tuple:\n",
    "            - X (ndarray): The processed data matrix.\n",
    "            - indNaN (ndarray): A matrix indicating the location of missing values (1 for NaN).\n",
    "    \"\"\"\n",
    "    T, N = X.shape  # Gives dimensions for data input\n",
    "    k = options[\"k\"]  # Inputted options\n",
    "    method = options[\"method\"]  # Inputted options\n",
    "    indNaN = np.isnan(X)  # Returns location of NaNs\n",
    "    nanLE = None\n",
    "    if method == 1:   # replace all the missing values\n",
    "        for i in range(N):  # loop through columns\n",
    "            x = X[:, i]\n",
    "            isnanx = indNaN[:, i]\n",
    "            x[isnanx]  = np.nanmedian(x)  # Replace missing values series median\n",
    "            x_MA = filter(np.concatenate(([x[0]] * k, x, [x[-1]] * k)), k)  # Apply filter\n",
    "            x_MA = x_MA[2*k:]  # Match dimensions\n",
    "            x[isnanx] = x_MA[isnanx]  # Replace missing observations with filtered values\n",
    "            X[:, i] = x  # Replace vector\n",
    "    elif method == 2:   # replace missing values after removing leading and closing zeros\n",
    "        rem1 = np.sum(indNaN, axis=1) > N * 0.8  # Returns row sum for NaN values. Marks true for rows with more than 80% NaN\n",
    "        nanLead = np.cumsum(rem1) == np.arange(1, T+1)\n",
    "        nanEnd = np.cumsum(rem1[::-1]) == np.arange(1, T+1)\n",
    "        nanEnd = nanEnd[::-1]  # Reverses nanEnd\n",
    "        nanLE = nanLead | nanEnd\n",
    "\n",
    "        print(X.shape, X[~nanLE, :].shape)\n",
    "        X = X[~nanLE, :]  # Remove leading and trailing NaN rows\n",
    "        indNaN = np.isnan(X)  # Index for missing values\n",
    "\n",
    "        # Loop for each series\n",
    "        for i in range(N):\n",
    "            x = X[:, i]\n",
    "            isnanx = np.isnan(x)\n",
    "            t1 = np.where(~isnanx)[0][0]  # First non-NaN entry\n",
    "            t2 = np.where(~isnanx)[0][-1]  # Last non-NaN entry\n",
    "\n",
    "            # Interpolates without NaN entries in beginning and end\n",
    "            tck = splrep(np.where(~isnanx)[0], x[~isnanx], s=0)\n",
    "            x[t1:t2+1] = splev(np.arange(t1, t2+1), tck)\n",
    "            isnanx = np.isnan(x)\n",
    "\n",
    "            x[isnanx] = np.nanmedian(x)  # Replace NaNs with the median\n",
    "\n",
    "            # Apply filter\n",
    "            x_MA = filter(np.concatenate(([x[0]] * k, x, [x[-1]] * k)), k)\n",
    "            x_MA = x_MA[2*k:]\n",
    "            x[isnanx] = x_MA[isnanx]\n",
    "            X[:, i] = x\n",
    "\n",
    "    elif method == 3:  # Only remove rows with leading and closing zeros\n",
    "        rem1 = np.sum(indNaN, axis=1) == N\n",
    "        nanLead = np.cumsum(rem1) == np.arange(1, T+1)\n",
    "        nanEnd = np.cumsum(rem1[::-1]) == np.arange(1, T+1)\n",
    "        nanEnd = nanEnd[::-1]\n",
    "        nanLE = nanLead | nanEnd\n",
    "\n",
    "        # Remove leading and trailing NaN rows\n",
    "        X = X[~nanLE, :]\n",
    "        indNaN = np.isnan(X)\n",
    "\n",
    "    elif method == 4:  # Remove rows with leading and closing zeros & replace missing values\n",
    "        rem1 = np.sum(indNaN, axis=1) == N\n",
    "        nanLead = np.cumsum(rem1) == np.arange(1, T+1)\n",
    "        nanEnd = np.cumsum(rem1[::-1]) == np.arange(1, T+1)\n",
    "        nanEnd = nanEnd[::-1]\n",
    "        nanLE = nanLead | nanEnd\n",
    "\n",
    "        # Remove leading and trailing NaN rows\n",
    "        X = X[~nanLE, :]\n",
    "        indNaN = np.isnan(X)\n",
    "\n",
    "        for i in range(N):\n",
    "            x = X[:, i]\n",
    "            isnanx = np.isnan(x)\n",
    "            t1 = np.where(~isnanx)[0][0]\n",
    "            t2 = np.where(~isnanx)[0][-1]\n",
    "\n",
    "            # Interpolation\n",
    "            tck = splrep(np.where(~isnanx)[0], x[~isnanx], s=0)\n",
    "            x[t1:t2+1] = splev(np.arange(t1, t2+1), tck)\n",
    "            isnanx = np.isnan(x)\n",
    "\n",
    "            x[isnanx] = np.nanmedian(x)  # Replace NaNs with the median\n",
    "            \n",
    "            # Apply filter\n",
    "            x_MA = filter(np.concatenate(([x[0]] * k, x, [x[-1]] * k)), k)\n",
    "            x_MA = x_MA[2*k:]\n",
    "            x[isnanx] = x_MA[isnanx]\n",
    "            X[:, i] = x\n",
    "\n",
    "    elif method == 5:  # Replace missing values\n",
    "        indNaN = np.isnan(X)\n",
    "        for i in range(N):\n",
    "            x = X[:, i]\n",
    "            isnanx = np.isnan(x)\n",
    "            t1 = np.where(~isnanx)[0][0]\n",
    "            t2 = np.where(~isnanx)[0][-1]\n",
    "\n",
    "            # Interpolation\n",
    "            tck = splrep(np.where(~isnanx)[0], x[~isnanx], s=0)\n",
    "            x[t1:t2+1] = splev(np.arange(t1, t2+1), tck)\n",
    "            isnanx = np.isnan(x)\n",
    "\n",
    "            x[isnanx] = np.nanmedian(x)  # Replace NaNs with the median\n",
    "\n",
    "            # Apply filter\n",
    "            x_MA = filter(np.concatenate(([x[0]] * k, x, [x[-1]] * k)), k)\n",
    "            x_MA = x_MA[2*k:]\n",
    "            x[isnanx] = x_MA[isnanx]\n",
    "            X[:, i] = x\n",
    "\n",
    "    return X, indNaN, nanLE\n"
   ]
  },
  {
   "cell_type": "code",
   "execution_count": 8,
   "metadata": {},
   "outputs": [
    {
     "name": "stdout",
     "output_type": "stream",
     "text": [
      "Table 1: Model specification\n",
      "              SeriesID                   SeriesName                 Units  \\\n",
      "0               PAYEMS           Payroll Employment  Thousands of Persons   \n",
      "1               JTSJOL                 Job Openings             Thousands   \n",
      "2             CPIAUCSL         Consumer Price Index                 Index   \n",
      "3              DGORDER         Durable Goods Orders           $, Millions   \n",
      "4                RSAFS                 Retail Sales           $, Millions   \n",
      "5               UNRATE            Unemployment Rate                     %   \n",
      "6                HOUST               Housing Starts    Thousands of Units   \n",
      "7               INDPRO        Industrial Production                 Index   \n",
      "8              DSPIC96              Personal Income   Chained $, Billions   \n",
      "9              BOPTEXP                      Exports           $, Millions   \n",
      "10             BOPTIMP                      Imports           $, Millions   \n",
      "11             TTLCONS        Construction Spending           $, Millions   \n",
      "12                  IR           Import Price Index                 Index   \n",
      "13            CPILFESL    Core Consumer Price Index                 Index   \n",
      "14            PCEPILFE         Core PCE Price Index                 Index   \n",
      "15               PCEPI              PCE Price Index                 Index   \n",
      "16              PERMIT             Building Permits    Thousands of Units   \n",
      "17                 TCU    Capacity Utilization Rate                     %   \n",
      "18              BUSINV         Business Inventories           $, Millions   \n",
      "19                  IQ           Export Price Index                 Index   \n",
      "20   GACDISA066MSFRBNY       Empire State Mfg Index                 Index   \n",
      "21              PCEC96    Real Consumption Spending   Chained $, Billions   \n",
      "22  GACDFSA066MSFRBPHI   Philadelphia Fed Mfg Index                 Index   \n",
      "23               GDPC1  Real Gross Domestic Product   Chained $, Billions   \n",
      "24              ULCNFB              Unit Labor Cost                 Index   \n",
      "\n",
      "                  Transformation  \n",
      "0            Change (Difference)  \n",
      "1            Change (Difference)  \n",
      "2                 Percent Change  \n",
      "3                 Percent Change  \n",
      "4                 Percent Change  \n",
      "5            Change (Difference)  \n",
      "6                 Percent Change  \n",
      "7                 Percent Change  \n",
      "8                 Percent Change  \n",
      "9                 Percent Change  \n",
      "10                Percent Change  \n",
      "11                Percent Change  \n",
      "12                Percent Change  \n",
      "13                Percent Change  \n",
      "14                Percent Change  \n",
      "15                Percent Change  \n",
      "16           Change (Difference)  \n",
      "17           Change (Difference)  \n",
      "18                Percent Change  \n",
      "19                Percent Change  \n",
      "20    Levels (No Transformation)  \n",
      "21                Percent Change  \n",
      "22    Levels (No Transformation)  \n",
      "23  Percent Change (Annual Rate)  \n",
      "24  Percent Change (Annual Rate)  \n",
      "Loading data...\n",
      "\n",
      "\n",
      "\n",
      "\n",
      "Table 2: Data Summary \n",
      "\n",
      "N =   25 data series\n",
      "T =  296 observations from 2000-01-01 to 2024-08-01\n",
      "Data Series                    | Observations      Units        Frequency  Mean     Std. Dev. Min        Max       \n",
      "----------------------------------------------------------------------------------------------------------------------------------\n",
      "Payroll Employment             |               295 Level change Monthly        94.7   1268.4   -20477.0     4615.0\n",
      "[PAYEMS]                       | Jan 2000-Jul 2024                                           Apr 2020 Jun 2020\n",
      "Job Openings                   |               282 Level change Monthly        11.0    296.1    -1418.0      956.0\n",
      "[JTSJOL]                       | Jan 2001-Jun 2024                                           Aug 2022 May 2020\n",
      "Consumer Price Index           |               295 Index        Monthly         0.2      0.3       -1.8        1.4\n",
      "[CPIAUCSL]                     | Jan 2000-Jul 2024                                           Nov 2008 Sep 2005\n",
      "Durable Goods Orders           |               295 MoM%         Monthly         0.2      4.7      -21.3       25.9\n",
      "[DGORDER]                      | Jan 2000-Jul 2024                                           Aug 2014 Jul 2014\n",
      "Retail Sales                   |               295 MoM%         Monthly         0.3      2.0      -14.5       18.8\n",
      "[RSAFS]                        | Jan 2000-Jul 2024                                           Apr 2020 May 2020\n",
      "Unemployment Rate              |               295 Ppt. change  Monthly         0.0      0.7       -2.2       10.4\n",
      "[UNRATE]                       | Jan 2000-Jul 2024                                           Jun 2020 Apr 2020\n",
      "Housing Starts                 |               295 MoM%         Monthly         0.2      8.3      -25.6       24.0\n",
      "[HOUST]                        | Jan 2000-Jul 2024                                           Apr 2020 Apr 2015\n",
      "Industrial Production          |               295 Index        Monthly         0.0      1.1      -13.2        6.6\n",
      "[INDPRO]                       | Jan 2000-Jul 2024                                           Apr 2020 Jun 2020\n",
      "Personal Income                |               294 MoM%         Monthly         0.2      2.2      -15.2       23.0\n",
      "[DSPIC96]                      | Jan 2000-Jun 2024                                           Apr 2021 Mar 2021\n",
      "Exports                        |               294 MoM%         Monthly         0.4      2.3      -20.2        9.6\n",
      "[BOPTEXP]                      | Jan 2000-Jun 2024                                           Apr 2020 Jun 2020\n",
      "Imports                        |               294 MoM%         Monthly         0.4      2.4      -12.3       10.6\n",
      "[BOPTIMP]                      | Jan 2000-Jun 2024                                           Apr 2020 Jul 2020\n",
      "Construction Spending          |               294 MoM%         Monthly         0.3      1.1       -3.7        3.0\n",
      "[TTLCONS]                      | Jan 2000-Jun 2024                                           Jan 2011 Jan 2022\n",
      "Import Price Index             |               295 Index        Monthly         0.1      1.3       -7.4        3.2\n",
      "[IR]                           | Jan 2000-Jul 2024                                           Nov 2008 Nov 2007\n",
      "Core Consumer Price Index      |               295 Index        Monthly         0.2      0.1       -0.5        0.8\n",
      "[CPILFESL]                     | Jan 2000-Jul 2024                                           Apr 2020 Apr 2021\n",
      "Core PCE Price Index           |               294 Index        Monthly         0.2      0.1       -0.6        0.7\n",
      "[PCEPILFE]                     | Jan 2000-Jun 2024                                           Sep 2001 Oct 2001\n",
      "PCE Price Index                |               294 Index        Monthly         0.2      0.2       -1.2        1.0\n",
      "[PCEPI]                        | Jan 2000-Jun 2024                                           Nov 2008 Sep 2005\n",
      "Building Permits               |               295 Level change Monthly        -0.9     68.3     -292.0      208.0\n",
      "[PERMIT]                       | Jan 2000-Jul 2024                                           Apr 2020 Jul 2020\n",
      "Capacity Utilization Rate      |               295 Ppt. change  Monthly        -0.0      0.9       -9.9        4.4\n",
      "[TCU]                          | Jan 2000-Jul 2024                                           Apr 2020 Jun 2020\n",
      "Business Inventories           |               294 MoM%         Monthly         0.3      0.6       -2.4        2.5\n",
      "[BUSINV]                       | Jan 2000-Jun 2024                                           May 2020 Dec 2021\n",
      "Export Price Index             |               295 Index        Monthly         0.1      0.9       -3.7        3.9\n",
      "[IQ]                           | Jan 2000-Jul 2024                                           Jul 2022 Mar 2022\n",
      "Empire State Mfg Index         |               278 Index        Monthly         6.7     16.2      -78.2       43.0\n",
      "[GACDISA066MSFRBNY]            | Jul 2001-Aug 2024                                           Apr 2020 Jul 2021\n",
      "Real Consumption Spending      |               209 MoM%         Monthly         0.2      1.2      -11.0        8.3\n",
      "[PCEC96]                       | Feb 2007-Jun 2024                                           Apr 2020 May 2020\n",
      "Philadelphia Fed Mfg Index     |               296 Index        Monthly         7.0     16.7      -58.4       48.9\n",
      "[GACDFSA066MSFRBPHI]           | Jan 2000-Aug 2024                                           Apr 2020 Apr 2021\n",
      "Real Gross Domestic Product    |                98 QoQ% AR      Quarterly       2.2      5.1      -28.0       34.8\n",
      "[GDPC1]                        | Qq 2000-Qq 2024                                             Qq 2020  Qq 2020 \n",
      "Unit Labor Cost                |                98 Index        Quarterly       1.7      5.1      -14.3       16.7\n",
      "[ULCNFB]                       | Qq 2000-Qq 2024                                             Qq 2009  Qq 2000 \n",
      "\n",
      "\n",
      "\n",
      "\n"
     ]
    },
    {
     "name": "stderr",
     "output_type": "stream",
     "text": [
      "/Users/ejowik001/Desktop/Github/Nowcasting/pysrc/load_spec.py:41: FutureWarning:\n",
      "\n",
      "Downcasting object dtype arrays on .fillna, .ffill, .bfill is deprecated and will change in a future version. Call result.infer_objects(copy=False) instead. To opt-in to the future behavior, set `pd.set_option('future.no_silent_downcasting', True)`\n",
      "\n"
     ]
    }
   ],
   "source": [
    "## User inputs.\n",
    "src_fpath = \"./data/2024-08-26.csv\"\n",
    "vintage = source_data_prep(src_fpath=src_fpath)\n",
    "# vintage = '2016-06-29'; # vintage dataset to use for estimation\n",
    "\n",
    "country = 'US';         # United States macroeconomic data\n",
    "sample_start = datetime.strptime('2000-01-01', '%Y-%m-%d'); # estimation sample\n",
    "\n",
    "\n",
    "## Load model specification and dataset.\n",
    "# Load model specification structure `Spec`\n",
    "Spec = load_spec('Spec_US_example.xls');\n",
    "# Parse `Spec`\n",
    "SeriesID, SeriesName, Units, UnitsTransformed = Spec['seriesid'], Spec['seriesname'], Spec['units'], Spec['unitstransformed']\n",
    "\n",
    "# Load data\n",
    "datafile = os.path.join('data', country, f'{vintage}.xls') if os.path.exists(os.path.join('data', country, f'{vintage}.xls')) else os.path.join('data', country, f'{vintage}.xlsx');\n",
    "X, Time, Z, header = load_data(datafile, Spec, sample_start);\n",
    "summarize(X.astype(float),Time,Spec,vintage); # summarize data"
   ]
  },
  {
   "cell_type": "code",
   "execution_count": 9,
   "metadata": {},
   "outputs": [
    {
     "name": "stdout",
     "output_type": "stream",
     "text": [
      "(296, 25) (295, 25)\n"
     ]
    }
   ],
   "source": [
    "# Prepare data -----------------------------------------------------------\n",
    "Mx = np.nanmean(X, axis=0)\n",
    "Wx = np.nanstd(X, axis=0)\n",
    "xNaN = (X - Mx) / Wx  # Standardize series\n",
    "\n",
    "optNaN = {\"method\": 2, \"k\": 3}\n",
    "y_est, indNaN, nanLE = remNaNs_spline(xNaN, optNaN)\n",
    "\n",
    "X_df = pd.DataFrame(data=y_est, columns=header, index=Time[~nanLE])\n",
    "Z_df = pd.DataFrame(data=Z, columns=header, index=Time)"
   ]
  },
  {
   "cell_type": "code",
   "execution_count": 36,
   "metadata": {},
   "outputs": [
    {
     "data": {
      "application/vnd.plotly.v1+json": {
       "config": {
        "plotlyServerURL": "https://plot.ly"
       },
       "data": [
        {
         "line": {
          "color": "#000000",
          "width": 1
         },
         "marker": {
          "size": 4,
          "symbol": "diamond"
         },
         "mode": "markers",
         "name": "Raw Observed Data",
         "type": "scatter",
         "x": [
          "2000-01-01T00:00:00",
          "2000-02-01T00:00:00",
          "2000-03-01T00:00:00",
          "2000-04-01T00:00:00",
          "2000-05-01T00:00:00",
          "2000-06-01T00:00:00",
          "2000-07-01T00:00:00",
          "2000-08-01T00:00:00",
          "2000-09-01T00:00:00",
          "2000-10-01T00:00:00",
          "2000-11-01T00:00:00",
          "2000-12-01T00:00:00",
          "2001-01-01T00:00:00",
          "2001-02-01T00:00:00",
          "2001-03-01T00:00:00",
          "2001-04-01T00:00:00",
          "2001-05-01T00:00:00",
          "2001-06-01T00:00:00",
          "2001-07-01T00:00:00",
          "2001-08-01T00:00:00",
          "2001-09-01T00:00:00",
          "2001-10-01T00:00:00",
          "2001-11-01T00:00:00",
          "2001-12-01T00:00:00",
          "2002-01-01T00:00:00",
          "2002-02-01T00:00:00",
          "2002-03-01T00:00:00",
          "2002-04-01T00:00:00",
          "2002-05-01T00:00:00",
          "2002-06-01T00:00:00",
          "2002-07-01T00:00:00",
          "2002-08-01T00:00:00",
          "2002-09-01T00:00:00",
          "2002-10-01T00:00:00",
          "2002-11-01T00:00:00",
          "2002-12-01T00:00:00",
          "2003-01-01T00:00:00",
          "2003-02-01T00:00:00",
          "2003-03-01T00:00:00",
          "2003-04-01T00:00:00",
          "2003-05-01T00:00:00",
          "2003-06-01T00:00:00",
          "2003-07-01T00:00:00",
          "2003-08-01T00:00:00",
          "2003-09-01T00:00:00",
          "2003-10-01T00:00:00",
          "2003-11-01T00:00:00",
          "2003-12-01T00:00:00",
          "2004-01-01T00:00:00",
          "2004-02-01T00:00:00",
          "2004-03-01T00:00:00",
          "2004-04-01T00:00:00",
          "2004-05-01T00:00:00",
          "2004-06-01T00:00:00",
          "2004-07-01T00:00:00",
          "2004-08-01T00:00:00",
          "2004-09-01T00:00:00",
          "2004-10-01T00:00:00",
          "2004-11-01T00:00:00",
          "2004-12-01T00:00:00",
          "2005-01-01T00:00:00",
          "2005-02-01T00:00:00",
          "2005-03-01T00:00:00",
          "2005-04-01T00:00:00",
          "2005-05-01T00:00:00",
          "2005-06-01T00:00:00",
          "2005-07-01T00:00:00",
          "2005-08-01T00:00:00",
          "2005-09-01T00:00:00",
          "2005-10-01T00:00:00",
          "2005-11-01T00:00:00",
          "2005-12-01T00:00:00",
          "2006-01-01T00:00:00",
          "2006-02-01T00:00:00",
          "2006-03-01T00:00:00",
          "2006-04-01T00:00:00",
          "2006-05-01T00:00:00",
          "2006-06-01T00:00:00",
          "2006-07-01T00:00:00",
          "2006-08-01T00:00:00",
          "2006-09-01T00:00:00",
          "2006-10-01T00:00:00",
          "2006-11-01T00:00:00",
          "2006-12-01T00:00:00",
          "2007-01-01T00:00:00",
          "2007-02-01T00:00:00",
          "2007-03-01T00:00:00",
          "2007-04-01T00:00:00",
          "2007-05-01T00:00:00",
          "2007-06-01T00:00:00",
          "2007-07-01T00:00:00",
          "2007-08-01T00:00:00",
          "2007-09-01T00:00:00",
          "2007-10-01T00:00:00",
          "2007-11-01T00:00:00",
          "2007-12-01T00:00:00",
          "2008-01-01T00:00:00",
          "2008-02-01T00:00:00",
          "2008-03-01T00:00:00",
          "2008-04-01T00:00:00",
          "2008-05-01T00:00:00",
          "2008-06-01T00:00:00",
          "2008-07-01T00:00:00",
          "2008-08-01T00:00:00",
          "2008-09-01T00:00:00",
          "2008-10-01T00:00:00",
          "2008-11-01T00:00:00",
          "2008-12-01T00:00:00",
          "2009-01-01T00:00:00",
          "2009-02-01T00:00:00",
          "2009-03-01T00:00:00",
          "2009-04-01T00:00:00",
          "2009-05-01T00:00:00",
          "2009-06-01T00:00:00",
          "2009-07-01T00:00:00",
          "2009-08-01T00:00:00",
          "2009-09-01T00:00:00",
          "2009-10-01T00:00:00",
          "2009-11-01T00:00:00",
          "2009-12-01T00:00:00",
          "2010-01-01T00:00:00",
          "2010-02-01T00:00:00",
          "2010-03-01T00:00:00",
          "2010-04-01T00:00:00",
          "2010-05-01T00:00:00",
          "2010-06-01T00:00:00",
          "2010-07-01T00:00:00",
          "2010-08-01T00:00:00",
          "2010-09-01T00:00:00",
          "2010-10-01T00:00:00",
          "2010-11-01T00:00:00",
          "2010-12-01T00:00:00",
          "2011-01-01T00:00:00",
          "2011-02-01T00:00:00",
          "2011-03-01T00:00:00",
          "2011-04-01T00:00:00",
          "2011-05-01T00:00:00",
          "2011-06-01T00:00:00",
          "2011-07-01T00:00:00",
          "2011-08-01T00:00:00",
          "2011-09-01T00:00:00",
          "2011-10-01T00:00:00",
          "2011-11-01T00:00:00",
          "2011-12-01T00:00:00",
          "2012-01-01T00:00:00",
          "2012-02-01T00:00:00",
          "2012-03-01T00:00:00",
          "2012-04-01T00:00:00",
          "2012-05-01T00:00:00",
          "2012-06-01T00:00:00",
          "2012-07-01T00:00:00",
          "2012-08-01T00:00:00",
          "2012-09-01T00:00:00",
          "2012-10-01T00:00:00",
          "2012-11-01T00:00:00",
          "2012-12-01T00:00:00",
          "2013-01-01T00:00:00",
          "2013-02-01T00:00:00",
          "2013-03-01T00:00:00",
          "2013-04-01T00:00:00",
          "2013-05-01T00:00:00",
          "2013-06-01T00:00:00",
          "2013-07-01T00:00:00",
          "2013-08-01T00:00:00",
          "2013-09-01T00:00:00",
          "2013-10-01T00:00:00",
          "2013-11-01T00:00:00",
          "2013-12-01T00:00:00",
          "2014-01-01T00:00:00",
          "2014-02-01T00:00:00",
          "2014-03-01T00:00:00",
          "2014-04-01T00:00:00",
          "2014-05-01T00:00:00",
          "2014-06-01T00:00:00",
          "2014-07-01T00:00:00",
          "2014-08-01T00:00:00",
          "2014-09-01T00:00:00",
          "2014-10-01T00:00:00",
          "2014-11-01T00:00:00",
          "2014-12-01T00:00:00",
          "2015-01-01T00:00:00",
          "2015-02-01T00:00:00",
          "2015-03-01T00:00:00",
          "2015-04-01T00:00:00",
          "2015-05-01T00:00:00",
          "2015-06-01T00:00:00",
          "2015-07-01T00:00:00",
          "2015-08-01T00:00:00",
          "2015-09-01T00:00:00",
          "2015-10-01T00:00:00",
          "2015-11-01T00:00:00",
          "2015-12-01T00:00:00",
          "2016-01-01T00:00:00",
          "2016-02-01T00:00:00",
          "2016-03-01T00:00:00",
          "2016-04-01T00:00:00",
          "2016-05-01T00:00:00",
          "2016-06-01T00:00:00",
          "2016-07-01T00:00:00",
          "2016-08-01T00:00:00",
          "2016-09-01T00:00:00",
          "2016-10-01T00:00:00",
          "2016-11-01T00:00:00",
          "2016-12-01T00:00:00",
          "2017-01-01T00:00:00",
          "2017-02-01T00:00:00",
          "2017-03-01T00:00:00",
          "2017-04-01T00:00:00",
          "2017-05-01T00:00:00",
          "2017-06-01T00:00:00",
          "2017-07-01T00:00:00",
          "2017-08-01T00:00:00",
          "2017-09-01T00:00:00",
          "2017-10-01T00:00:00",
          "2017-11-01T00:00:00",
          "2017-12-01T00:00:00",
          "2018-01-01T00:00:00",
          "2018-02-01T00:00:00",
          "2018-03-01T00:00:00",
          "2018-04-01T00:00:00",
          "2018-05-01T00:00:00",
          "2018-06-01T00:00:00",
          "2018-07-01T00:00:00",
          "2018-08-01T00:00:00",
          "2018-09-01T00:00:00",
          "2018-10-01T00:00:00",
          "2018-11-01T00:00:00",
          "2018-12-01T00:00:00",
          "2019-01-01T00:00:00",
          "2019-02-01T00:00:00",
          "2019-03-01T00:00:00",
          "2019-04-01T00:00:00",
          "2019-05-01T00:00:00",
          "2019-06-01T00:00:00",
          "2019-07-01T00:00:00",
          "2019-08-01T00:00:00",
          "2019-09-01T00:00:00",
          "2019-10-01T00:00:00",
          "2019-11-01T00:00:00",
          "2019-12-01T00:00:00",
          "2020-01-01T00:00:00",
          "2020-02-01T00:00:00",
          "2020-03-01T00:00:00",
          "2020-04-01T00:00:00",
          "2020-05-01T00:00:00",
          "2020-06-01T00:00:00",
          "2020-07-01T00:00:00",
          "2020-08-01T00:00:00",
          "2020-09-01T00:00:00",
          "2020-10-01T00:00:00",
          "2020-11-01T00:00:00",
          "2020-12-01T00:00:00",
          "2021-01-01T00:00:00",
          "2021-02-01T00:00:00",
          "2021-03-01T00:00:00",
          "2021-04-01T00:00:00",
          "2021-05-01T00:00:00",
          "2021-06-01T00:00:00",
          "2021-07-01T00:00:00",
          "2021-08-01T00:00:00",
          "2021-09-01T00:00:00",
          "2021-10-01T00:00:00",
          "2021-11-01T00:00:00",
          "2021-12-01T00:00:00",
          "2022-01-01T00:00:00",
          "2022-02-01T00:00:00",
          "2022-03-01T00:00:00",
          "2022-04-01T00:00:00",
          "2022-05-01T00:00:00",
          "2022-06-01T00:00:00",
          "2022-07-01T00:00:00",
          "2022-08-01T00:00:00",
          "2022-09-01T00:00:00",
          "2022-10-01T00:00:00",
          "2022-11-01T00:00:00",
          "2022-12-01T00:00:00",
          "2023-01-01T00:00:00",
          "2023-02-01T00:00:00",
          "2023-03-01T00:00:00",
          "2023-04-01T00:00:00",
          "2023-05-01T00:00:00",
          "2023-06-01T00:00:00",
          "2023-07-01T00:00:00",
          "2023-08-01T00:00:00",
          "2023-09-01T00:00:00",
          "2023-10-01T00:00:00",
          "2023-11-01T00:00:00",
          "2023-12-01T00:00:00",
          "2024-01-01T00:00:00",
          "2024-02-01T00:00:00",
          "2024-03-01T00:00:00",
          "2024-04-01T00:00:00",
          "2024-05-01T00:00:00",
          "2024-06-01T00:00:00",
          "2024-07-01T00:00:00",
          "2024-08-01T00:00:00"
         ],
         "xaxis": "x",
         "y": [
          13878.147,
          null,
          null,
          14130.908,
          null,
          null,
          14145.312,
          null,
          null,
          14229.765,
          null,
          null,
          14183.12,
          null,
          null,
          14271.694,
          null,
          null,
          14214.516,
          null,
          null,
          14253.574,
          null,
          null,
          14372.785,
          null,
          null,
          14460.848,
          null,
          null,
          14519.633,
          null,
          null,
          14537.58,
          null,
          null,
          14614.141,
          null,
          null,
          14743.567,
          null,
          null,
          14988.782,
          null,
          null,
          15162.76,
          null,
          null,
          15248.68,
          null,
          null,
          15366.85,
          null,
          null,
          15512.619,
          null,
          null,
          15670.88,
          null,
          null,
          15844.727,
          null,
          null,
          15922.782,
          null,
          null,
          16047.587,
          null,
          null,
          16136.734,
          null,
          null,
          16353.835,
          null,
          null,
          16396.151,
          null,
          null,
          16420.738,
          null,
          null,
          16561.866,
          null,
          null,
          16611.69,
          null,
          null,
          16713.314,
          null,
          null,
          16809.587,
          null,
          null,
          16915.191,
          null,
          null,
          16843.003,
          null,
          null,
          16943.291,
          null,
          null,
          16854.295,
          null,
          null,
          16485.35,
          null,
          null,
          16298.262,
          null,
          null,
          16269.145,
          null,
          null,
          16326.281,
          null,
          null,
          16502.754,
          null,
          null,
          16582.71,
          null,
          null,
          16743.162,
          null,
          null,
          16872.266,
          null,
          null,
          16960.864,
          null,
          null,
          16920.632,
          null,
          null,
          17035.114,
          null,
          null,
          17031.313,
          null,
          null,
          17222.583,
          null,
          null,
          17367.01,
          null,
          null,
          17444.525,
          null,
          null,
          17469.65,
          null,
          null,
          17489.852,
          null,
          null,
          17662.4,
          null,
          null,
          17709.671,
          null,
          null,
          17860.45,
          null,
          null,
          18016.147,
          null,
          null,
          17953.974,
          null,
          null,
          18185.911,
          null,
          null,
          18406.941,
          null,
          null,
          18500.031,
          null,
          null,
          18666.621,
          null,
          null,
          18782.243,
          null,
          null,
          18857.418,
          null,
          null,
          18892.206,
          null,
          null,
          19001.69,
          null,
          null,
          19062.709,
          null,
          null,
          19197.938,
          null,
          null,
          19304.352,
          null,
          null,
          19398.343,
          null,
          null,
          19506.949,
          null,
          null,
          19660.766,
          null,
          null,
          19882.352,
          null,
          null,
          20044.077,
          null,
          null,
          20150.476,
          null,
          null,
          20276.154,
          null,
          null,
          20304.874,
          null,
          null,
          20415.15,
          null,
          null,
          20584.528,
          null,
          null,
          20817.581,
          null,
          null,
          20951.088,
          null,
          null,
          20665.553,
          null,
          null,
          19034.83,
          null,
          null,
          20511.785,
          null,
          null,
          20724.128,
          null,
          null,
          20990.541,
          null,
          null,
          21309.544,
          null,
          null,
          21483.083,
          null,
          null,
          21847.602,
          null,
          null,
          21738.871,
          null,
          null,
          21708.16,
          null,
          null,
          21851.134,
          null,
          null,
          21989.981,
          null,
          null,
          22112.329,
          null,
          null,
          22225.35,
          null,
          null,
          22490.692,
          null,
          null,
          22679.255,
          null,
          null,
          22758.752,
          null,
          null,
          22918.739,
          null,
          null,
          null,
          null
         ],
         "yaxis": "y"
        },
        {
         "line": {
          "color": "#BDC1D6",
          "width": 1
         },
         "mode": "lines",
         "name": "Transformed Data",
         "type": "scatter",
         "x": [
          "2000-01-01T00:00:00",
          "2000-02-01T00:00:00",
          "2000-03-01T00:00:00",
          "2000-04-01T00:00:00",
          "2000-05-01T00:00:00",
          "2000-06-01T00:00:00",
          "2000-07-01T00:00:00",
          "2000-08-01T00:00:00",
          "2000-09-01T00:00:00",
          "2000-10-01T00:00:00",
          "2000-11-01T00:00:00",
          "2000-12-01T00:00:00",
          "2001-01-01T00:00:00",
          "2001-02-01T00:00:00",
          "2001-03-01T00:00:00",
          "2001-04-01T00:00:00",
          "2001-05-01T00:00:00",
          "2001-06-01T00:00:00",
          "2001-07-01T00:00:00",
          "2001-08-01T00:00:00",
          "2001-09-01T00:00:00",
          "2001-10-01T00:00:00",
          "2001-11-01T00:00:00",
          "2001-12-01T00:00:00",
          "2002-01-01T00:00:00",
          "2002-02-01T00:00:00",
          "2002-03-01T00:00:00",
          "2002-04-01T00:00:00",
          "2002-05-01T00:00:00",
          "2002-06-01T00:00:00",
          "2002-07-01T00:00:00",
          "2002-08-01T00:00:00",
          "2002-09-01T00:00:00",
          "2002-10-01T00:00:00",
          "2002-11-01T00:00:00",
          "2002-12-01T00:00:00",
          "2003-01-01T00:00:00",
          "2003-02-01T00:00:00",
          "2003-03-01T00:00:00",
          "2003-04-01T00:00:00",
          "2003-05-01T00:00:00",
          "2003-06-01T00:00:00",
          "2003-07-01T00:00:00",
          "2003-08-01T00:00:00",
          "2003-09-01T00:00:00",
          "2003-10-01T00:00:00",
          "2003-11-01T00:00:00",
          "2003-12-01T00:00:00",
          "2004-01-01T00:00:00",
          "2004-02-01T00:00:00",
          "2004-03-01T00:00:00",
          "2004-04-01T00:00:00",
          "2004-05-01T00:00:00",
          "2004-06-01T00:00:00",
          "2004-07-01T00:00:00",
          "2004-08-01T00:00:00",
          "2004-09-01T00:00:00",
          "2004-10-01T00:00:00",
          "2004-11-01T00:00:00",
          "2004-12-01T00:00:00",
          "2005-01-01T00:00:00",
          "2005-02-01T00:00:00",
          "2005-03-01T00:00:00",
          "2005-04-01T00:00:00",
          "2005-05-01T00:00:00",
          "2005-06-01T00:00:00",
          "2005-07-01T00:00:00",
          "2005-08-01T00:00:00",
          "2005-09-01T00:00:00",
          "2005-10-01T00:00:00",
          "2005-11-01T00:00:00",
          "2005-12-01T00:00:00",
          "2006-01-01T00:00:00",
          "2006-02-01T00:00:00",
          "2006-03-01T00:00:00",
          "2006-04-01T00:00:00",
          "2006-05-01T00:00:00",
          "2006-06-01T00:00:00",
          "2006-07-01T00:00:00",
          "2006-08-01T00:00:00",
          "2006-09-01T00:00:00",
          "2006-10-01T00:00:00",
          "2006-11-01T00:00:00",
          "2006-12-01T00:00:00",
          "2007-01-01T00:00:00",
          "2007-02-01T00:00:00",
          "2007-03-01T00:00:00",
          "2007-04-01T00:00:00",
          "2007-05-01T00:00:00",
          "2007-06-01T00:00:00",
          "2007-07-01T00:00:00",
          "2007-08-01T00:00:00",
          "2007-09-01T00:00:00",
          "2007-10-01T00:00:00",
          "2007-11-01T00:00:00",
          "2007-12-01T00:00:00",
          "2008-01-01T00:00:00",
          "2008-02-01T00:00:00",
          "2008-03-01T00:00:00",
          "2008-04-01T00:00:00",
          "2008-05-01T00:00:00",
          "2008-06-01T00:00:00",
          "2008-07-01T00:00:00",
          "2008-08-01T00:00:00",
          "2008-09-01T00:00:00",
          "2008-10-01T00:00:00",
          "2008-11-01T00:00:00",
          "2008-12-01T00:00:00",
          "2009-01-01T00:00:00",
          "2009-02-01T00:00:00",
          "2009-03-01T00:00:00",
          "2009-04-01T00:00:00",
          "2009-05-01T00:00:00",
          "2009-06-01T00:00:00",
          "2009-07-01T00:00:00",
          "2009-08-01T00:00:00",
          "2009-09-01T00:00:00",
          "2009-10-01T00:00:00",
          "2009-11-01T00:00:00",
          "2009-12-01T00:00:00",
          "2010-01-01T00:00:00",
          "2010-02-01T00:00:00",
          "2010-03-01T00:00:00",
          "2010-04-01T00:00:00",
          "2010-05-01T00:00:00",
          "2010-06-01T00:00:00",
          "2010-07-01T00:00:00",
          "2010-08-01T00:00:00",
          "2010-09-01T00:00:00",
          "2010-10-01T00:00:00",
          "2010-11-01T00:00:00",
          "2010-12-01T00:00:00",
          "2011-01-01T00:00:00",
          "2011-02-01T00:00:00",
          "2011-03-01T00:00:00",
          "2011-04-01T00:00:00",
          "2011-05-01T00:00:00",
          "2011-06-01T00:00:00",
          "2011-07-01T00:00:00",
          "2011-08-01T00:00:00",
          "2011-09-01T00:00:00",
          "2011-10-01T00:00:00",
          "2011-11-01T00:00:00",
          "2011-12-01T00:00:00",
          "2012-01-01T00:00:00",
          "2012-02-01T00:00:00",
          "2012-03-01T00:00:00",
          "2012-04-01T00:00:00",
          "2012-05-01T00:00:00",
          "2012-06-01T00:00:00",
          "2012-07-01T00:00:00",
          "2012-08-01T00:00:00",
          "2012-09-01T00:00:00",
          "2012-10-01T00:00:00",
          "2012-11-01T00:00:00",
          "2012-12-01T00:00:00",
          "2013-01-01T00:00:00",
          "2013-02-01T00:00:00",
          "2013-03-01T00:00:00",
          "2013-04-01T00:00:00",
          "2013-05-01T00:00:00",
          "2013-06-01T00:00:00",
          "2013-07-01T00:00:00",
          "2013-08-01T00:00:00",
          "2013-09-01T00:00:00",
          "2013-10-01T00:00:00",
          "2013-11-01T00:00:00",
          "2013-12-01T00:00:00",
          "2014-01-01T00:00:00",
          "2014-02-01T00:00:00",
          "2014-03-01T00:00:00",
          "2014-04-01T00:00:00",
          "2014-05-01T00:00:00",
          "2014-06-01T00:00:00",
          "2014-07-01T00:00:00",
          "2014-08-01T00:00:00",
          "2014-09-01T00:00:00",
          "2014-10-01T00:00:00",
          "2014-11-01T00:00:00",
          "2014-12-01T00:00:00",
          "2015-01-01T00:00:00",
          "2015-02-01T00:00:00",
          "2015-03-01T00:00:00",
          "2015-04-01T00:00:00",
          "2015-05-01T00:00:00",
          "2015-06-01T00:00:00",
          "2015-07-01T00:00:00",
          "2015-08-01T00:00:00",
          "2015-09-01T00:00:00",
          "2015-10-01T00:00:00",
          "2015-11-01T00:00:00",
          "2015-12-01T00:00:00",
          "2016-01-01T00:00:00",
          "2016-02-01T00:00:00",
          "2016-03-01T00:00:00",
          "2016-04-01T00:00:00",
          "2016-05-01T00:00:00",
          "2016-06-01T00:00:00",
          "2016-07-01T00:00:00",
          "2016-08-01T00:00:00",
          "2016-09-01T00:00:00",
          "2016-10-01T00:00:00",
          "2016-11-01T00:00:00",
          "2016-12-01T00:00:00",
          "2017-01-01T00:00:00",
          "2017-02-01T00:00:00",
          "2017-03-01T00:00:00",
          "2017-04-01T00:00:00",
          "2017-05-01T00:00:00",
          "2017-06-01T00:00:00",
          "2017-07-01T00:00:00",
          "2017-08-01T00:00:00",
          "2017-09-01T00:00:00",
          "2017-10-01T00:00:00",
          "2017-11-01T00:00:00",
          "2017-12-01T00:00:00",
          "2018-01-01T00:00:00",
          "2018-02-01T00:00:00",
          "2018-03-01T00:00:00",
          "2018-04-01T00:00:00",
          "2018-05-01T00:00:00",
          "2018-06-01T00:00:00",
          "2018-07-01T00:00:00",
          "2018-08-01T00:00:00",
          "2018-09-01T00:00:00",
          "2018-10-01T00:00:00",
          "2018-11-01T00:00:00",
          "2018-12-01T00:00:00",
          "2019-01-01T00:00:00",
          "2019-02-01T00:00:00",
          "2019-03-01T00:00:00",
          "2019-04-01T00:00:00",
          "2019-05-01T00:00:00",
          "2019-06-01T00:00:00",
          "2019-07-01T00:00:00",
          "2019-08-01T00:00:00",
          "2019-09-01T00:00:00",
          "2019-10-01T00:00:00",
          "2019-11-01T00:00:00",
          "2019-12-01T00:00:00",
          "2020-01-01T00:00:00",
          "2020-02-01T00:00:00",
          "2020-03-01T00:00:00",
          "2020-04-01T00:00:00",
          "2020-05-01T00:00:00",
          "2020-06-01T00:00:00",
          "2020-07-01T00:00:00",
          "2020-08-01T00:00:00",
          "2020-09-01T00:00:00",
          "2020-10-01T00:00:00",
          "2020-11-01T00:00:00",
          "2020-12-01T00:00:00",
          "2021-01-01T00:00:00",
          "2021-02-01T00:00:00",
          "2021-03-01T00:00:00",
          "2021-04-01T00:00:00",
          "2021-05-01T00:00:00",
          "2021-06-01T00:00:00",
          "2021-07-01T00:00:00",
          "2021-08-01T00:00:00",
          "2021-09-01T00:00:00",
          "2021-10-01T00:00:00",
          "2021-11-01T00:00:00",
          "2021-12-01T00:00:00",
          "2022-01-01T00:00:00",
          "2022-02-01T00:00:00",
          "2022-03-01T00:00:00",
          "2022-04-01T00:00:00",
          "2022-05-01T00:00:00",
          "2022-06-01T00:00:00",
          "2022-07-01T00:00:00",
          "2022-08-01T00:00:00",
          "2022-09-01T00:00:00",
          "2022-10-01T00:00:00",
          "2022-11-01T00:00:00",
          "2022-12-01T00:00:00",
          "2023-01-01T00:00:00",
          "2023-02-01T00:00:00",
          "2023-03-01T00:00:00",
          "2023-04-01T00:00:00",
          "2023-05-01T00:00:00",
          "2023-06-01T00:00:00",
          "2023-07-01T00:00:00",
          "2023-08-01T00:00:00",
          "2023-09-01T00:00:00",
          "2023-10-01T00:00:00",
          "2023-11-01T00:00:00",
          "2023-12-01T00:00:00",
          "2024-01-01T00:00:00",
          "2024-02-01T00:00:00",
          "2024-03-01T00:00:00",
          "2024-04-01T00:00:00",
          "2024-05-01T00:00:00",
          "2024-06-01T00:00:00",
          "2024-07-01T00:00:00"
         ],
         "xaxis": "x2",
         "y": [
          -0.1480182135308979,
          0.9533083871914928,
          1.262921283501098,
          1.0339059321910151,
          0.5193477900543432,
          -0.027667686115820118,
          -0.35405503952637674,
          -0.2986930802825895,
          -0.06831768608316631,
          0.038370998474823795,
          -0.17804169765636454,
          -0.5198285513271824,
          -0.6899768658387571,
          -0.4929267852732683,
          -0.13892981683710362,
          0.06030969148229688,
          -0.10909510482109773,
          -0.4697610363276833,
          -0.7464874301364465,
          -0.7343215775741225,
          -0.5093026268784412,
          -0.21771769051488044,
          0.017723359335513257,
          0.16861961162942118,
          0.23014739560795633,
          0.20565345506199023,
          0.13116619198142757,
          0.050884422905931516,
          -0.0032371427616718264,
          -0.04822022416590451,
          -0.11333064758812562,
          -0.21357180886135788,
          -0.3068973820252785,
          -0.3369986106712281,
          -0.26730422644287827,
          -0.1401929131932231,
          -0.017780842827587705,
          0.058915644173789576,
          0.13327953303101595,
          0.2697936403892851,
          0.503542606934051,
          0.7520183695118072,
          0.9033146890093087,
          0.8765325816240082,
          0.7148020847961551,
          0.4922604912766987,
          0.2761182822636771,
          0.1058786927434886,
          0.014118146149621326,
          0.020277312514589564,
          0.09125384826701236,
          0.18080965643453484,
          0.2509283351651321,
          0.29648026308809816,
          0.32055751395305704,
          0.3293462954846271,
          0.3414093513074041,
          0.37840355902097816,
          0.4469875922907588,
          0.4938273090454326,
          0.4505903632795055,
          0.28072334627023166,
          0.07478859842585735,
          -0.044872602562622974,
          0.001515328320948197,
          0.12346520539338102,
          0.18792415029664855,
          0.1099655810427264,
          -0.0028318988764005583,
          0.005236610401254864,
          0.2280584994048768,
          0.5122511213324372,
          0.6426143200491047,
          0.4710178732968282,
          0.11761129432467508,
          -0.2303859697415071,
          -0.42081069051140385,
          -0.4417245145368321,
          -0.3162453071051418,
          -0.08447790503781263,
          0.145524968707157,
          0.24872361963763878,
          0.14658955379065036,
          -0.05336092068020727,
          -0.19710029509218727,
          -0.1750119295703881,
          -0.05512265947128927,
          0.05012981104078455,
          0.060452529721050106,
          0.024131552002890057,
          0.021597685239228618,
          0.09781013906632934,
          0.15584173225381356,
          0.06329368585464197,
          -0.2501923862143156,
          -0.6068132985805529,
          -0.7667254730076545,
          -0.5750905597666224,
          -0.21709112315812829,
          0.03708504400973848,
          -0.02044160438942434,
          -0.34831762775527236,
          -0.8428813388057743,
          -1.3932657301216849,
          -1.8597825137349018,
          -2.095538081540109,
          -2.0040066035586497,
          -1.6901333623185018,
          -1.3092314184743028,
          -0.9890728980302292,
          -0.7472661883886118,
          -0.5738787423013209,
          -0.4512857453246797,
          -0.3310933142328257,
          -0.15721529860434924,
          0.09606929711068708,
          0.33302084897633477,
          0.42753457818517343,
          0.3036264769553822,
          0.08579562160753766,
          -0.051338140512183876,
          0.013817067461798472,
          0.19074124047268595,
          0.33588640298308453,
          0.34394670157820656,
          0.2625847713336882,
          0.1777053694477719,
          0.14632394886248265,
          0.10989874549497569,
          -0.019001308993811212,
          -0.2827946360985767,
          -0.5438490699365659,
          -0.61951979778066,
          -0.40087525480482983,
          -0.07383686778740156,
          0.10196068859220922,
          -0.0433833818644075,
          -0.320834361431641,
          -0.45162365390287523,
          -0.2444632664616377,
          0.1420123801479697,
          0.4616882617917017,
          0.5304188165706419,
          0.41193633152719006,
          0.2319425559390748,
          0.09163535722984205,
          -0.0058029245936937575,
          -0.08169383137890096,
          -0.15467807930327038,
          -0.23267308186478233,
          -0.3209154268915397,
          -0.4114482072615691,
          -0.4435405360525927,
          -0.34326803139225626,
          -0.07892011297954747,
          0.21235859320118047,
          0.3512096595942323,
          0.22186815124150833,
          -0.037056896424710564,
          -0.2233629553745483,
          -0.18792960641241588,
          0.006035134320127814,
          0.24224114184723664,
          0.41244317508480693,
          0.4405755285157041,
          0.25861738051453587,
          -0.14498539372994473,
          -0.5559201317724031,
          -0.7034074743533593,
          -0.4108781714152357,
          0.12139659029193725,
          0.5989355148162261,
          0.7931226143662452,
          0.7388031337927957,
          0.5366876261072261,
          0.28433455171152183,
          0.0666940005702171,
          -0.03443602996151655,
          0.02950356387031002,
          0.174116311414957,
          0.28176684842050237,
          0.26628812764692683,
          0.1673863699018222,
          0.056236113004683105,
          -0.013741628736905336,
          -0.06013993506299593,
          -0.11830540922555093,
          -0.2077387287574481,
          -0.28455686831522714,
          -0.28903087683634326,
          -0.18752497789848932,
          -0.05077609364030817,
          0.024385679159319676,
          -0.025280329304359347,
          -0.12865708093959147,
          -0.18103811068049597,
          -0.11055493077512898,
          0.023309037272706615,
          0.12823239464527103,
          0.13626859138434663,
          0.07697047296980346,
          0.004265733741033689,
          -0.03882257693268767,
          -0.052889989562553766,
          -0.04943667962987481,
          -0.037827084824350446,
          -0.01888269166923812,
          0.00871075110381526,
          0.047570400525043174,
          0.10552503667220064,
          0.19170634538492304,
          0.3061350356076881,
          0.41238790870434294,
          0.464930789143577,
          0.4318124851064081,
          0.33541373962316723,
          0.21169827943651387,
          0.0947507078749169,
          0.011139134610082969,
          -0.014447454100471768,
          0.02622931462077775,
          0.07560536013139224,
          0.05966598840894136,
          -0.06607022058937151,
          -0.22795159098780818,
          -0.32279317293099663,
          -0.2782038357829689,
          -0.14496772578537262,
          -0.004662808399259332,
          0.08268414789321296,
          0.14325116252546038,
          0.2247674519097926,
          0.3526210266299002,
          0.4628350739549973,
          0.4690915753256788,
          0.32480641718198355,
          0.1423311059617264,
          0.07375105310216605,
          0.13953401838732155,
          -0.16632284501174674,
          -1.4814400355772182,
          -4.001589481179617,
          -6.155148827242848,
          -5.9286471485791585,
          -2.151887858704386,
          2.972228274051303,
          6.397526142654153,
          5.9804895061687375,
          3.1882375880529215,
          0.3905484778629008,
          -0.600905497722373,
          -0.2068750635329115,
          0.5937832927240321,
          1.0125233587719233,
          1.0220400240571,
          0.785338453456617,
          0.46484957987957215,
          0.22070740836322947,
          0.21247171197689466,
          0.5157095084298846,
          0.8700167939915608,
          0.9309968095712958,
          0.47530517517567866,
          -0.2361929727998369,
          -0.8215801188625798,
          -0.9931165536371305,
          -0.8397737922170716,
          -0.5447011558132374,
          -0.2640781870070253,
          -0.046205313862088385,
          0.08758681418735594,
          0.12699958688341223,
          0.10586255067347171,
          0.06903729118124736,
          0.05001049470667012,
          0.036769250254543195,
          0.005925747505887767,
          -0.051242933855018935,
          -0.08480015413087558,
          -0.030144383621124784,
          0.14806940546027283,
          0.36816023324128494,
          0.5191906179353614,
          0.5192322816945252,
          0.40239376242509456,
          0.23179280197196048,
          0.06364584214981824,
          -0.07343587534742377,
          -0.15774240885605337,
          -0.16756381671235848,
          -0.08119015725262703,
          0.12308851118685307,
          -0.0020285293994224147,
          0.025890078594563635,
          0.04146959238001662
         ],
         "yaxis": "y2"
        }
       ],
       "layout": {
        "annotations": [
         {
          "font": {
           "size": 16
          },
          "showarrow": false,
          "text": "Raw Observed Data",
          "x": 0.5,
          "xanchor": "center",
          "xref": "paper",
          "y": 1,
          "yanchor": "bottom",
          "yref": "paper"
         },
         {
          "font": {
           "size": 16
          },
          "showarrow": false,
          "text": "Transformed & Imputed Data",
          "x": 0.5,
          "xanchor": "center",
          "xref": "paper",
          "y": 0.45,
          "yanchor": "bottom",
          "yref": "paper"
         }
        ],
        "height": 600,
        "plot_bgcolor": "white",
        "showlegend": false,
        "template": {
         "data": {
          "bar": [
           {
            "error_x": {
             "color": "#2a3f5f"
            },
            "error_y": {
             "color": "#2a3f5f"
            },
            "marker": {
             "line": {
              "color": "#E5ECF6",
              "width": 0.5
             },
             "pattern": {
              "fillmode": "overlay",
              "size": 10,
              "solidity": 0.2
             }
            },
            "type": "bar"
           }
          ],
          "barpolar": [
           {
            "marker": {
             "line": {
              "color": "#E5ECF6",
              "width": 0.5
             },
             "pattern": {
              "fillmode": "overlay",
              "size": 10,
              "solidity": 0.2
             }
            },
            "type": "barpolar"
           }
          ],
          "carpet": [
           {
            "aaxis": {
             "endlinecolor": "#2a3f5f",
             "gridcolor": "white",
             "linecolor": "white",
             "minorgridcolor": "white",
             "startlinecolor": "#2a3f5f"
            },
            "baxis": {
             "endlinecolor": "#2a3f5f",
             "gridcolor": "white",
             "linecolor": "white",
             "minorgridcolor": "white",
             "startlinecolor": "#2a3f5f"
            },
            "type": "carpet"
           }
          ],
          "choropleth": [
           {
            "colorbar": {
             "outlinewidth": 0,
             "ticks": ""
            },
            "type": "choropleth"
           }
          ],
          "contour": [
           {
            "colorbar": {
             "outlinewidth": 0,
             "ticks": ""
            },
            "colorscale": [
             [
              0,
              "#0d0887"
             ],
             [
              0.1111111111111111,
              "#46039f"
             ],
             [
              0.2222222222222222,
              "#7201a8"
             ],
             [
              0.3333333333333333,
              "#9c179e"
             ],
             [
              0.4444444444444444,
              "#bd3786"
             ],
             [
              0.5555555555555556,
              "#d8576b"
             ],
             [
              0.6666666666666666,
              "#ed7953"
             ],
             [
              0.7777777777777778,
              "#fb9f3a"
             ],
             [
              0.8888888888888888,
              "#fdca26"
             ],
             [
              1,
              "#f0f921"
             ]
            ],
            "type": "contour"
           }
          ],
          "contourcarpet": [
           {
            "colorbar": {
             "outlinewidth": 0,
             "ticks": ""
            },
            "type": "contourcarpet"
           }
          ],
          "heatmap": [
           {
            "colorbar": {
             "outlinewidth": 0,
             "ticks": ""
            },
            "colorscale": [
             [
              0,
              "#0d0887"
             ],
             [
              0.1111111111111111,
              "#46039f"
             ],
             [
              0.2222222222222222,
              "#7201a8"
             ],
             [
              0.3333333333333333,
              "#9c179e"
             ],
             [
              0.4444444444444444,
              "#bd3786"
             ],
             [
              0.5555555555555556,
              "#d8576b"
             ],
             [
              0.6666666666666666,
              "#ed7953"
             ],
             [
              0.7777777777777778,
              "#fb9f3a"
             ],
             [
              0.8888888888888888,
              "#fdca26"
             ],
             [
              1,
              "#f0f921"
             ]
            ],
            "type": "heatmap"
           }
          ],
          "heatmapgl": [
           {
            "colorbar": {
             "outlinewidth": 0,
             "ticks": ""
            },
            "colorscale": [
             [
              0,
              "#0d0887"
             ],
             [
              0.1111111111111111,
              "#46039f"
             ],
             [
              0.2222222222222222,
              "#7201a8"
             ],
             [
              0.3333333333333333,
              "#9c179e"
             ],
             [
              0.4444444444444444,
              "#bd3786"
             ],
             [
              0.5555555555555556,
              "#d8576b"
             ],
             [
              0.6666666666666666,
              "#ed7953"
             ],
             [
              0.7777777777777778,
              "#fb9f3a"
             ],
             [
              0.8888888888888888,
              "#fdca26"
             ],
             [
              1,
              "#f0f921"
             ]
            ],
            "type": "heatmapgl"
           }
          ],
          "histogram": [
           {
            "marker": {
             "pattern": {
              "fillmode": "overlay",
              "size": 10,
              "solidity": 0.2
             }
            },
            "type": "histogram"
           }
          ],
          "histogram2d": [
           {
            "colorbar": {
             "outlinewidth": 0,
             "ticks": ""
            },
            "colorscale": [
             [
              0,
              "#0d0887"
             ],
             [
              0.1111111111111111,
              "#46039f"
             ],
             [
              0.2222222222222222,
              "#7201a8"
             ],
             [
              0.3333333333333333,
              "#9c179e"
             ],
             [
              0.4444444444444444,
              "#bd3786"
             ],
             [
              0.5555555555555556,
              "#d8576b"
             ],
             [
              0.6666666666666666,
              "#ed7953"
             ],
             [
              0.7777777777777778,
              "#fb9f3a"
             ],
             [
              0.8888888888888888,
              "#fdca26"
             ],
             [
              1,
              "#f0f921"
             ]
            ],
            "type": "histogram2d"
           }
          ],
          "histogram2dcontour": [
           {
            "colorbar": {
             "outlinewidth": 0,
             "ticks": ""
            },
            "colorscale": [
             [
              0,
              "#0d0887"
             ],
             [
              0.1111111111111111,
              "#46039f"
             ],
             [
              0.2222222222222222,
              "#7201a8"
             ],
             [
              0.3333333333333333,
              "#9c179e"
             ],
             [
              0.4444444444444444,
              "#bd3786"
             ],
             [
              0.5555555555555556,
              "#d8576b"
             ],
             [
              0.6666666666666666,
              "#ed7953"
             ],
             [
              0.7777777777777778,
              "#fb9f3a"
             ],
             [
              0.8888888888888888,
              "#fdca26"
             ],
             [
              1,
              "#f0f921"
             ]
            ],
            "type": "histogram2dcontour"
           }
          ],
          "mesh3d": [
           {
            "colorbar": {
             "outlinewidth": 0,
             "ticks": ""
            },
            "type": "mesh3d"
           }
          ],
          "parcoords": [
           {
            "line": {
             "colorbar": {
              "outlinewidth": 0,
              "ticks": ""
             }
            },
            "type": "parcoords"
           }
          ],
          "pie": [
           {
            "automargin": true,
            "type": "pie"
           }
          ],
          "scatter": [
           {
            "fillpattern": {
             "fillmode": "overlay",
             "size": 10,
             "solidity": 0.2
            },
            "type": "scatter"
           }
          ],
          "scatter3d": [
           {
            "line": {
             "colorbar": {
              "outlinewidth": 0,
              "ticks": ""
             }
            },
            "marker": {
             "colorbar": {
              "outlinewidth": 0,
              "ticks": ""
             }
            },
            "type": "scatter3d"
           }
          ],
          "scattercarpet": [
           {
            "marker": {
             "colorbar": {
              "outlinewidth": 0,
              "ticks": ""
             }
            },
            "type": "scattercarpet"
           }
          ],
          "scattergeo": [
           {
            "marker": {
             "colorbar": {
              "outlinewidth": 0,
              "ticks": ""
             }
            },
            "type": "scattergeo"
           }
          ],
          "scattergl": [
           {
            "marker": {
             "colorbar": {
              "outlinewidth": 0,
              "ticks": ""
             }
            },
            "type": "scattergl"
           }
          ],
          "scattermapbox": [
           {
            "marker": {
             "colorbar": {
              "outlinewidth": 0,
              "ticks": ""
             }
            },
            "type": "scattermapbox"
           }
          ],
          "scatterpolar": [
           {
            "marker": {
             "colorbar": {
              "outlinewidth": 0,
              "ticks": ""
             }
            },
            "type": "scatterpolar"
           }
          ],
          "scatterpolargl": [
           {
            "marker": {
             "colorbar": {
              "outlinewidth": 0,
              "ticks": ""
             }
            },
            "type": "scatterpolargl"
           }
          ],
          "scatterternary": [
           {
            "marker": {
             "colorbar": {
              "outlinewidth": 0,
              "ticks": ""
             }
            },
            "type": "scatterternary"
           }
          ],
          "surface": [
           {
            "colorbar": {
             "outlinewidth": 0,
             "ticks": ""
            },
            "colorscale": [
             [
              0,
              "#0d0887"
             ],
             [
              0.1111111111111111,
              "#46039f"
             ],
             [
              0.2222222222222222,
              "#7201a8"
             ],
             [
              0.3333333333333333,
              "#9c179e"
             ],
             [
              0.4444444444444444,
              "#bd3786"
             ],
             [
              0.5555555555555556,
              "#d8576b"
             ],
             [
              0.6666666666666666,
              "#ed7953"
             ],
             [
              0.7777777777777778,
              "#fb9f3a"
             ],
             [
              0.8888888888888888,
              "#fdca26"
             ],
             [
              1,
              "#f0f921"
             ]
            ],
            "type": "surface"
           }
          ],
          "table": [
           {
            "cells": {
             "fill": {
              "color": "#EBF0F8"
             },
             "line": {
              "color": "white"
             }
            },
            "header": {
             "fill": {
              "color": "#C8D4E3"
             },
             "line": {
              "color": "white"
             }
            },
            "type": "table"
           }
          ]
         },
         "layout": {
          "annotationdefaults": {
           "arrowcolor": "#2a3f5f",
           "arrowhead": 0,
           "arrowwidth": 1
          },
          "autotypenumbers": "strict",
          "coloraxis": {
           "colorbar": {
            "outlinewidth": 0,
            "ticks": ""
           }
          },
          "colorscale": {
           "diverging": [
            [
             0,
             "#8e0152"
            ],
            [
             0.1,
             "#c51b7d"
            ],
            [
             0.2,
             "#de77ae"
            ],
            [
             0.3,
             "#f1b6da"
            ],
            [
             0.4,
             "#fde0ef"
            ],
            [
             0.5,
             "#f7f7f7"
            ],
            [
             0.6,
             "#e6f5d0"
            ],
            [
             0.7,
             "#b8e186"
            ],
            [
             0.8,
             "#7fbc41"
            ],
            [
             0.9,
             "#4d9221"
            ],
            [
             1,
             "#276419"
            ]
           ],
           "sequential": [
            [
             0,
             "#0d0887"
            ],
            [
             0.1111111111111111,
             "#46039f"
            ],
            [
             0.2222222222222222,
             "#7201a8"
            ],
            [
             0.3333333333333333,
             "#9c179e"
            ],
            [
             0.4444444444444444,
             "#bd3786"
            ],
            [
             0.5555555555555556,
             "#d8576b"
            ],
            [
             0.6666666666666666,
             "#ed7953"
            ],
            [
             0.7777777777777778,
             "#fb9f3a"
            ],
            [
             0.8888888888888888,
             "#fdca26"
            ],
            [
             1,
             "#f0f921"
            ]
           ],
           "sequentialminus": [
            [
             0,
             "#0d0887"
            ],
            [
             0.1111111111111111,
             "#46039f"
            ],
            [
             0.2222222222222222,
             "#7201a8"
            ],
            [
             0.3333333333333333,
             "#9c179e"
            ],
            [
             0.4444444444444444,
             "#bd3786"
            ],
            [
             0.5555555555555556,
             "#d8576b"
            ],
            [
             0.6666666666666666,
             "#ed7953"
            ],
            [
             0.7777777777777778,
             "#fb9f3a"
            ],
            [
             0.8888888888888888,
             "#fdca26"
            ],
            [
             1,
             "#f0f921"
            ]
           ]
          },
          "colorway": [
           "#636efa",
           "#EF553B",
           "#00cc96",
           "#ab63fa",
           "#FFA15A",
           "#19d3f3",
           "#FF6692",
           "#B6E880",
           "#FF97FF",
           "#FECB52"
          ],
          "font": {
           "color": "#2a3f5f"
          },
          "geo": {
           "bgcolor": "white",
           "lakecolor": "white",
           "landcolor": "#E5ECF6",
           "showlakes": true,
           "showland": true,
           "subunitcolor": "white"
          },
          "hoverlabel": {
           "align": "left"
          },
          "hovermode": "closest",
          "mapbox": {
           "style": "light"
          },
          "paper_bgcolor": "white",
          "plot_bgcolor": "#E5ECF6",
          "polar": {
           "angularaxis": {
            "gridcolor": "white",
            "linecolor": "white",
            "ticks": ""
           },
           "bgcolor": "#E5ECF6",
           "radialaxis": {
            "gridcolor": "white",
            "linecolor": "white",
            "ticks": ""
           }
          },
          "scene": {
           "xaxis": {
            "backgroundcolor": "#E5ECF6",
            "gridcolor": "white",
            "gridwidth": 2,
            "linecolor": "white",
            "showbackground": true,
            "ticks": "",
            "zerolinecolor": "white"
           },
           "yaxis": {
            "backgroundcolor": "#E5ECF6",
            "gridcolor": "white",
            "gridwidth": 2,
            "linecolor": "white",
            "showbackground": true,
            "ticks": "",
            "zerolinecolor": "white"
           },
           "zaxis": {
            "backgroundcolor": "#E5ECF6",
            "gridcolor": "white",
            "gridwidth": 2,
            "linecolor": "white",
            "showbackground": true,
            "ticks": "",
            "zerolinecolor": "white"
           }
          },
          "shapedefaults": {
           "line": {
            "color": "#2a3f5f"
           }
          },
          "ternary": {
           "aaxis": {
            "gridcolor": "white",
            "linecolor": "white",
            "ticks": ""
           },
           "baxis": {
            "gridcolor": "white",
            "linecolor": "white",
            "ticks": ""
           },
           "bgcolor": "#E5ECF6",
           "caxis": {
            "gridcolor": "white",
            "linecolor": "white",
            "ticks": ""
           }
          },
          "title": {
           "x": 0.05
          },
          "xaxis": {
           "automargin": true,
           "gridcolor": "white",
           "linecolor": "white",
           "ticks": "",
           "title": {
            "standoff": 15
           },
           "zerolinecolor": "white",
           "zerolinewidth": 2
          },
          "yaxis": {
           "automargin": true,
           "gridcolor": "white",
           "linecolor": "white",
           "ticks": "",
           "title": {
            "standoff": 15
           },
           "zerolinecolor": "white",
           "zerolinewidth": 2
          }
         }
        },
        "title": {
         "text": "GDPC1"
        },
        "width": 800,
        "xaxis": {
         "anchor": "y",
         "domain": [
          0,
          1
         ],
         "gridcolor": "lightgrey",
         "matches": "x2",
         "range": [
          "2000-01-01T00:00:00",
          "2024-08-01T00:00:00"
         ],
         "showticklabels": false
        },
        "xaxis2": {
         "anchor": "y2",
         "domain": [
          0,
          1
         ],
         "gridcolor": "lightgrey",
         "range": [
          "2000-01-01T00:00:00",
          "2024-08-01T00:00:00"
         ],
         "title": {
          "text": "Time"
         }
        },
        "yaxis": {
         "anchor": "x",
         "domain": [
          0.55,
          1
         ],
         "gridcolor": "lightgrey",
         "title": {
          "text": "Chained $, Billions"
         }
        },
        "yaxis2": {
         "anchor": "x2",
         "domain": [
          0,
          0.45
         ],
         "gridcolor": "lightgrey",
         "title": {
          "text": "Percent Change (Annual Rate)"
         }
        }
       }
      }
     },
     "metadata": {},
     "output_type": "display_data"
    }
   ],
   "source": [
    "fig = psub.make_subplots(rows=2, cols=1, shared_xaxes=True, vertical_spacing=0.1,\n",
    "                            subplot_titles=(\"Raw Observed Data\", \"Transformed & Imputed Data\"))\n",
    "\n",
    "## Plot raw and transformed data.\n",
    "# Industrial Production (INDPRO) <fred.stlouisfed.org/series/INDPRO>\n",
    "series_name = \"GDPC1\"\n",
    "idxSeries = SeriesID.index(series_name)\n",
    "# Plot raw observed data\n",
    "trace1 = go.Scatter(\n",
    "    x=Z_df.index,\n",
    "    y=Z_df[series_name],\n",
    "    mode=\"markers\" if Z_df[~nanLE][series_name].isna().sum() else \"lines\",\n",
    "    name='Raw Observed Data',\n",
    "    line=dict(color=\"#000000\", width=1),  # #7BCC62 / #68b562 / #7BB562\n",
    "    marker={\"size\": 4, \"symbol\": \"diamond\"},\n",
    ")\n",
    "fig.add_trace(trace1, row=1, col=1)\n",
    "\n",
    "# Plot transformed data\n",
    "trace2 = go.Scatter(\n",
    "    x=X_df.index,\n",
    "    y=X_df[series_name],\n",
    "    mode='lines',\n",
    "    name='Transformed Data',\n",
    "    line=dict(color=\"#BDC1D6\", width=1),  # #7BCC62 / #68b562 / #7BB562\n",
    ")\n",
    "fig.add_trace(trace2, row=2, col=1)\n",
    "fig.update_layout(\n",
    "    height=600,\n",
    "    width=800,\n",
    "    showlegend=False,\n",
    "    title_text=series_name,\n",
    "    plot_bgcolor=\"white\",\n",
    ")\n",
    "fig.update_xaxes(range=[Time[0], Time[-1]], row=1, col=1, gridcolor=\"lightgrey\")\n",
    "fig.update_yaxes(title_text=Units[idxSeries], row=1, col=1, gridcolor=\"lightgrey\")\n",
    "\n",
    "fig.update_xaxes(range=[Time[0], Time[-1]], title_text='Time', row=2, col=1, gridcolor=\"lightgrey\")\n",
    "fig.update_yaxes(title_text=UnitsTransformed[idxSeries], row=2, col=1, gridcolor=\"lightgrey\")\n",
    "fig.show()"
   ]
  },
  {
   "cell_type": "code",
   "execution_count": null,
   "metadata": {},
   "outputs": [],
   "source": []
  },
  {
   "cell_type": "code",
   "execution_count": null,
   "metadata": {},
   "outputs": [],
   "source": []
  }
 ],
 "metadata": {
  "kernelspec": {
   "display_name": "Python 3",
   "language": "python",
   "name": "python3"
  },
  "language_info": {
   "codemirror_mode": {
    "name": "ipython",
    "version": 3
   },
   "file_extension": ".py",
   "mimetype": "text/x-python",
   "name": "python",
   "nbconvert_exporter": "python",
   "pygments_lexer": "ipython3",
   "version": "3.12.4"
  }
 },
 "nbformat": 4,
 "nbformat_minor": 2
}
